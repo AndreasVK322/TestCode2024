{
  "cells": [
    {
      "cell_type": "markdown",
      "metadata": {
        "id": "view-in-github",
        "colab_type": "text"
      },
      "source": [
        "<a href=\"https://colab.research.google.com/github/AndreasVK322/TestCode2024/blob/main/DGA_Classification_edit.ipynb\" target=\"_parent\"><img src=\"https://colab.research.google.com/assets/colab-badge.svg\" alt=\"Open In Colab\"/></a>"
      ]
    },
    {
      "cell_type": "code",
      "execution_count": 23,
      "metadata": {
        "colab": {
          "base_uri": "https://localhost:8080/"
        },
        "id": "2rvGqQdY9C6s",
        "outputId": "7fa78e29-a35d-4be9-96e9-2b8b8d238fb3"
      },
      "outputs": [
        {
          "output_type": "stream",
          "name": "stdout",
          "text": [
            "Requirement already satisfied: pycaret in /usr/local/lib/python3.10/dist-packages (3.3.2)\n",
            "Requirement already satisfied: ipython>=5.5.0 in /usr/local/lib/python3.10/dist-packages (from pycaret) (7.34.0)\n",
            "Requirement already satisfied: ipywidgets>=7.6.5 in /usr/local/lib/python3.10/dist-packages (from pycaret) (7.7.1)\n",
            "Requirement already satisfied: tqdm>=4.62.0 in /usr/local/lib/python3.10/dist-packages (from pycaret) (4.66.4)\n",
            "Requirement already satisfied: numpy<1.27,>=1.21 in /usr/local/lib/python3.10/dist-packages (from pycaret) (1.25.2)\n",
            "Requirement already satisfied: pandas<2.2.0 in /usr/local/lib/python3.10/dist-packages (from pycaret) (2.0.3)\n",
            "Requirement already satisfied: jinja2>=3 in /usr/local/lib/python3.10/dist-packages (from pycaret) (3.1.4)\n",
            "Requirement already satisfied: scipy<=1.11.4,>=1.6.1 in /usr/local/lib/python3.10/dist-packages (from pycaret) (1.11.4)\n",
            "Requirement already satisfied: joblib<1.4,>=1.2.0 in /usr/local/lib/python3.10/dist-packages (from pycaret) (1.3.2)\n",
            "Requirement already satisfied: scikit-learn>1.4.0 in /usr/local/lib/python3.10/dist-packages (from pycaret) (1.4.2)\n",
            "Requirement already satisfied: pyod>=1.1.3 in /usr/local/lib/python3.10/dist-packages (from pycaret) (2.0.1)\n",
            "Requirement already satisfied: imbalanced-learn>=0.12.0 in /usr/local/lib/python3.10/dist-packages (from pycaret) (0.12.3)\n",
            "Requirement already satisfied: category-encoders>=2.4.0 in /usr/local/lib/python3.10/dist-packages (from pycaret) (2.6.3)\n",
            "Requirement already satisfied: lightgbm>=3.0.0 in /usr/local/lib/python3.10/dist-packages (from pycaret) (4.1.0)\n",
            "Requirement already satisfied: numba>=0.55.0 in /usr/local/lib/python3.10/dist-packages (from pycaret) (0.58.1)\n",
            "Requirement already satisfied: requests>=2.27.1 in /usr/local/lib/python3.10/dist-packages (from pycaret) (2.31.0)\n",
            "Requirement already satisfied: psutil>=5.9.0 in /usr/local/lib/python3.10/dist-packages (from pycaret) (5.9.5)\n",
            "Requirement already satisfied: markupsafe>=2.0.1 in /usr/local/lib/python3.10/dist-packages (from pycaret) (2.1.5)\n",
            "Requirement already satisfied: importlib-metadata>=4.12.0 in /usr/local/lib/python3.10/dist-packages (from pycaret) (8.0.0)\n",
            "Requirement already satisfied: nbformat>=4.2.0 in /usr/local/lib/python3.10/dist-packages (from pycaret) (5.10.4)\n",
            "Requirement already satisfied: cloudpickle in /usr/local/lib/python3.10/dist-packages (from pycaret) (2.2.1)\n",
            "Requirement already satisfied: deprecation>=2.1.0 in /usr/local/lib/python3.10/dist-packages (from pycaret) (2.1.0)\n",
            "Requirement already satisfied: xxhash in /usr/local/lib/python3.10/dist-packages (from pycaret) (3.4.1)\n",
            "Requirement already satisfied: matplotlib<3.8.0 in /usr/local/lib/python3.10/dist-packages (from pycaret) (3.7.1)\n",
            "Requirement already satisfied: scikit-plot>=0.3.7 in /usr/local/lib/python3.10/dist-packages (from pycaret) (0.3.7)\n",
            "Requirement already satisfied: yellowbrick>=1.4 in /usr/local/lib/python3.10/dist-packages (from pycaret) (1.5)\n",
            "Requirement already satisfied: plotly>=5.14.0 in /usr/local/lib/python3.10/dist-packages (from pycaret) (5.15.0)\n",
            "Requirement already satisfied: kaleido>=0.2.1 in /usr/local/lib/python3.10/dist-packages (from pycaret) (0.2.1)\n",
            "Requirement already satisfied: schemdraw==0.15 in /usr/local/lib/python3.10/dist-packages (from pycaret) (0.15)\n",
            "Requirement already satisfied: plotly-resampler>=0.8.3.1 in /usr/local/lib/python3.10/dist-packages (from pycaret) (0.10.0)\n",
            "Requirement already satisfied: statsmodels>=0.12.1 in /usr/local/lib/python3.10/dist-packages (from pycaret) (0.14.2)\n",
            "Requirement already satisfied: sktime==0.26.0 in /usr/local/lib/python3.10/dist-packages (from pycaret) (0.26.0)\n",
            "Requirement already satisfied: tbats>=1.1.3 in /usr/local/lib/python3.10/dist-packages (from pycaret) (1.1.3)\n",
            "Requirement already satisfied: pmdarima>=2.0.4 in /usr/local/lib/python3.10/dist-packages (from pycaret) (2.0.4)\n",
            "Requirement already satisfied: wurlitzer in /usr/local/lib/python3.10/dist-packages (from pycaret) (3.1.1)\n",
            "Requirement already satisfied: packaging in /usr/local/lib/python3.10/dist-packages (from sktime==0.26.0->pycaret) (24.1)\n",
            "Requirement already satisfied: scikit-base<0.8.0 in /usr/local/lib/python3.10/dist-packages (from sktime==0.26.0->pycaret) (0.7.8)\n",
            "Requirement already satisfied: patsy>=0.5.1 in /usr/local/lib/python3.10/dist-packages (from category-encoders>=2.4.0->pycaret) (0.5.6)\n",
            "Requirement already satisfied: threadpoolctl>=2.0.0 in /usr/local/lib/python3.10/dist-packages (from imbalanced-learn>=0.12.0->pycaret) (3.5.0)\n",
            "Requirement already satisfied: zipp>=0.5 in /usr/local/lib/python3.10/dist-packages (from importlib-metadata>=4.12.0->pycaret) (3.19.2)\n",
            "Requirement already satisfied: setuptools>=18.5 in /usr/local/lib/python3.10/dist-packages (from ipython>=5.5.0->pycaret) (67.7.2)\n",
            "Requirement already satisfied: jedi>=0.16 in /usr/local/lib/python3.10/dist-packages (from ipython>=5.5.0->pycaret) (0.19.1)\n",
            "Requirement already satisfied: decorator in /usr/local/lib/python3.10/dist-packages (from ipython>=5.5.0->pycaret) (4.4.2)\n",
            "Requirement already satisfied: pickleshare in /usr/local/lib/python3.10/dist-packages (from ipython>=5.5.0->pycaret) (0.7.5)\n",
            "Requirement already satisfied: traitlets>=4.2 in /usr/local/lib/python3.10/dist-packages (from ipython>=5.5.0->pycaret) (5.7.1)\n",
            "Requirement already satisfied: prompt-toolkit!=3.0.0,!=3.0.1,<3.1.0,>=2.0.0 in /usr/local/lib/python3.10/dist-packages (from ipython>=5.5.0->pycaret) (3.0.47)\n",
            "Requirement already satisfied: pygments in /usr/local/lib/python3.10/dist-packages (from ipython>=5.5.0->pycaret) (2.16.1)\n",
            "Requirement already satisfied: backcall in /usr/local/lib/python3.10/dist-packages (from ipython>=5.5.0->pycaret) (0.2.0)\n",
            "Requirement already satisfied: matplotlib-inline in /usr/local/lib/python3.10/dist-packages (from ipython>=5.5.0->pycaret) (0.1.7)\n",
            "Requirement already satisfied: pexpect>4.3 in /usr/local/lib/python3.10/dist-packages (from ipython>=5.5.0->pycaret) (4.9.0)\n",
            "Requirement already satisfied: ipykernel>=4.5.1 in /usr/local/lib/python3.10/dist-packages (from ipywidgets>=7.6.5->pycaret) (5.5.6)\n",
            "Requirement already satisfied: ipython-genutils~=0.2.0 in /usr/local/lib/python3.10/dist-packages (from ipywidgets>=7.6.5->pycaret) (0.2.0)\n",
            "Requirement already satisfied: widgetsnbextension~=3.6.0 in /usr/local/lib/python3.10/dist-packages (from ipywidgets>=7.6.5->pycaret) (3.6.6)\n",
            "Requirement already satisfied: jupyterlab-widgets>=1.0.0 in /usr/local/lib/python3.10/dist-packages (from ipywidgets>=7.6.5->pycaret) (3.0.11)\n",
            "Requirement already satisfied: contourpy>=1.0.1 in /usr/local/lib/python3.10/dist-packages (from matplotlib<3.8.0->pycaret) (1.2.1)\n",
            "Requirement already satisfied: cycler>=0.10 in /usr/local/lib/python3.10/dist-packages (from matplotlib<3.8.0->pycaret) (0.12.1)\n",
            "Requirement already satisfied: fonttools>=4.22.0 in /usr/local/lib/python3.10/dist-packages (from matplotlib<3.8.0->pycaret) (4.53.0)\n",
            "Requirement already satisfied: kiwisolver>=1.0.1 in /usr/local/lib/python3.10/dist-packages (from matplotlib<3.8.0->pycaret) (1.4.5)\n",
            "Requirement already satisfied: pillow>=6.2.0 in /usr/local/lib/python3.10/dist-packages (from matplotlib<3.8.0->pycaret) (9.4.0)\n",
            "Requirement already satisfied: pyparsing>=2.3.1 in /usr/local/lib/python3.10/dist-packages (from matplotlib<3.8.0->pycaret) (3.1.2)\n",
            "Requirement already satisfied: python-dateutil>=2.7 in /usr/local/lib/python3.10/dist-packages (from matplotlib<3.8.0->pycaret) (2.8.2)\n",
            "Requirement already satisfied: fastjsonschema>=2.15 in /usr/local/lib/python3.10/dist-packages (from nbformat>=4.2.0->pycaret) (2.20.0)\n",
            "Requirement already satisfied: jsonschema>=2.6 in /usr/local/lib/python3.10/dist-packages (from nbformat>=4.2.0->pycaret) (4.19.2)\n",
            "Requirement already satisfied: jupyter-core!=5.0.*,>=4.12 in /usr/local/lib/python3.10/dist-packages (from nbformat>=4.2.0->pycaret) (5.7.2)\n",
            "Requirement already satisfied: llvmlite<0.42,>=0.41.0dev0 in /usr/local/lib/python3.10/dist-packages (from numba>=0.55.0->pycaret) (0.41.1)\n",
            "Requirement already satisfied: pytz>=2020.1 in /usr/local/lib/python3.10/dist-packages (from pandas<2.2.0->pycaret) (2023.4)\n",
            "Requirement already satisfied: tzdata>=2022.1 in /usr/local/lib/python3.10/dist-packages (from pandas<2.2.0->pycaret) (2024.1)\n",
            "Requirement already satisfied: tenacity>=6.2.0 in /usr/local/lib/python3.10/dist-packages (from plotly>=5.14.0->pycaret) (8.4.2)\n",
            "Requirement already satisfied: dash>=2.9.0 in /usr/local/lib/python3.10/dist-packages (from plotly-resampler>=0.8.3.1->pycaret) (2.17.1)\n",
            "Requirement already satisfied: orjson<4.0.0,>=3.8.0 in /usr/local/lib/python3.10/dist-packages (from plotly-resampler>=0.8.3.1->pycaret) (3.10.6)\n",
            "Requirement already satisfied: tsdownsample>=0.1.3 in /usr/local/lib/python3.10/dist-packages (from plotly-resampler>=0.8.3.1->pycaret) (0.1.3)\n",
            "Requirement already satisfied: Cython!=0.29.18,!=0.29.31,>=0.29 in /usr/local/lib/python3.10/dist-packages (from pmdarima>=2.0.4->pycaret) (3.0.10)\n",
            "Requirement already satisfied: urllib3 in /usr/local/lib/python3.10/dist-packages (from pmdarima>=2.0.4->pycaret) (2.0.7)\n",
            "Requirement already satisfied: charset-normalizer<4,>=2 in /usr/local/lib/python3.10/dist-packages (from requests>=2.27.1->pycaret) (3.3.2)\n",
            "Requirement already satisfied: idna<4,>=2.5 in /usr/local/lib/python3.10/dist-packages (from requests>=2.27.1->pycaret) (3.7)\n",
            "Requirement already satisfied: certifi>=2017.4.17 in /usr/local/lib/python3.10/dist-packages (from requests>=2.27.1->pycaret) (2024.6.2)\n",
            "Requirement already satisfied: Flask<3.1,>=1.0.4 in /usr/local/lib/python3.10/dist-packages (from dash>=2.9.0->plotly-resampler>=0.8.3.1->pycaret) (2.2.5)\n",
            "Requirement already satisfied: Werkzeug<3.1 in /usr/local/lib/python3.10/dist-packages (from dash>=2.9.0->plotly-resampler>=0.8.3.1->pycaret) (3.0.3)\n",
            "Requirement already satisfied: dash-html-components==2.0.0 in /usr/local/lib/python3.10/dist-packages (from dash>=2.9.0->plotly-resampler>=0.8.3.1->pycaret) (2.0.0)\n",
            "Requirement already satisfied: dash-core-components==2.0.0 in /usr/local/lib/python3.10/dist-packages (from dash>=2.9.0->plotly-resampler>=0.8.3.1->pycaret) (2.0.0)\n",
            "Requirement already satisfied: dash-table==5.0.0 in /usr/local/lib/python3.10/dist-packages (from dash>=2.9.0->plotly-resampler>=0.8.3.1->pycaret) (5.0.0)\n",
            "Requirement already satisfied: typing-extensions>=4.1.1 in /usr/local/lib/python3.10/dist-packages (from dash>=2.9.0->plotly-resampler>=0.8.3.1->pycaret) (4.12.2)\n",
            "Requirement already satisfied: retrying in /usr/local/lib/python3.10/dist-packages (from dash>=2.9.0->plotly-resampler>=0.8.3.1->pycaret) (1.3.4)\n",
            "Requirement already satisfied: nest-asyncio in /usr/local/lib/python3.10/dist-packages (from dash>=2.9.0->plotly-resampler>=0.8.3.1->pycaret) (1.6.0)\n",
            "Requirement already satisfied: jupyter-client in /usr/local/lib/python3.10/dist-packages (from ipykernel>=4.5.1->ipywidgets>=7.6.5->pycaret) (6.1.12)\n",
            "Requirement already satisfied: tornado>=4.2 in /usr/local/lib/python3.10/dist-packages (from ipykernel>=4.5.1->ipywidgets>=7.6.5->pycaret) (6.3.3)\n",
            "Requirement already satisfied: parso<0.9.0,>=0.8.3 in /usr/local/lib/python3.10/dist-packages (from jedi>=0.16->ipython>=5.5.0->pycaret) (0.8.4)\n",
            "Requirement already satisfied: attrs>=22.2.0 in /usr/local/lib/python3.10/dist-packages (from jsonschema>=2.6->nbformat>=4.2.0->pycaret) (23.2.0)\n",
            "Requirement already satisfied: jsonschema-specifications>=2023.03.6 in /usr/local/lib/python3.10/dist-packages (from jsonschema>=2.6->nbformat>=4.2.0->pycaret) (2023.12.1)\n",
            "Requirement already satisfied: referencing>=0.28.4 in /usr/local/lib/python3.10/dist-packages (from jsonschema>=2.6->nbformat>=4.2.0->pycaret) (0.35.1)\n",
            "Requirement already satisfied: rpds-py>=0.7.1 in /usr/local/lib/python3.10/dist-packages (from jsonschema>=2.6->nbformat>=4.2.0->pycaret) (0.18.1)\n",
            "Requirement already satisfied: platformdirs>=2.5 in /usr/local/lib/python3.10/dist-packages (from jupyter-core!=5.0.*,>=4.12->nbformat>=4.2.0->pycaret) (4.2.2)\n",
            "Requirement already satisfied: six in /usr/local/lib/python3.10/dist-packages (from patsy>=0.5.1->category-encoders>=2.4.0->pycaret) (1.16.0)\n",
            "Requirement already satisfied: ptyprocess>=0.5 in /usr/local/lib/python3.10/dist-packages (from pexpect>4.3->ipython>=5.5.0->pycaret) (0.7.0)\n",
            "Requirement already satisfied: wcwidth in /usr/local/lib/python3.10/dist-packages (from prompt-toolkit!=3.0.0,!=3.0.1,<3.1.0,>=2.0.0->ipython>=5.5.0->pycaret) (0.2.13)\n",
            "Requirement already satisfied: notebook>=4.4.1 in /usr/local/lib/python3.10/dist-packages (from widgetsnbextension~=3.6.0->ipywidgets>=7.6.5->pycaret) (6.5.5)\n",
            "Requirement already satisfied: itsdangerous>=2.0 in /usr/local/lib/python3.10/dist-packages (from Flask<3.1,>=1.0.4->dash>=2.9.0->plotly-resampler>=0.8.3.1->pycaret) (2.2.0)\n",
            "Requirement already satisfied: click>=8.0 in /usr/local/lib/python3.10/dist-packages (from Flask<3.1,>=1.0.4->dash>=2.9.0->plotly-resampler>=0.8.3.1->pycaret) (8.1.7)\n",
            "Requirement already satisfied: pyzmq<25,>=17 in /usr/local/lib/python3.10/dist-packages (from notebook>=4.4.1->widgetsnbextension~=3.6.0->ipywidgets>=7.6.5->pycaret) (24.0.1)\n",
            "Requirement already satisfied: argon2-cffi in /usr/local/lib/python3.10/dist-packages (from notebook>=4.4.1->widgetsnbextension~=3.6.0->ipywidgets>=7.6.5->pycaret) (23.1.0)\n",
            "Requirement already satisfied: nbconvert>=5 in /usr/local/lib/python3.10/dist-packages (from notebook>=4.4.1->widgetsnbextension~=3.6.0->ipywidgets>=7.6.5->pycaret) (6.5.4)\n",
            "Requirement already satisfied: Send2Trash>=1.8.0 in /usr/local/lib/python3.10/dist-packages (from notebook>=4.4.1->widgetsnbextension~=3.6.0->ipywidgets>=7.6.5->pycaret) (1.8.3)\n",
            "Requirement already satisfied: terminado>=0.8.3 in /usr/local/lib/python3.10/dist-packages (from notebook>=4.4.1->widgetsnbextension~=3.6.0->ipywidgets>=7.6.5->pycaret) (0.18.1)\n",
            "Requirement already satisfied: prometheus-client in /usr/local/lib/python3.10/dist-packages (from notebook>=4.4.1->widgetsnbextension~=3.6.0->ipywidgets>=7.6.5->pycaret) (0.20.0)\n",
            "Requirement already satisfied: nbclassic>=0.4.7 in /usr/local/lib/python3.10/dist-packages (from notebook>=4.4.1->widgetsnbextension~=3.6.0->ipywidgets>=7.6.5->pycaret) (1.1.0)\n",
            "Requirement already satisfied: notebook-shim>=0.2.3 in /usr/local/lib/python3.10/dist-packages (from nbclassic>=0.4.7->notebook>=4.4.1->widgetsnbextension~=3.6.0->ipywidgets>=7.6.5->pycaret) (0.2.4)\n",
            "Requirement already satisfied: lxml in /usr/local/lib/python3.10/dist-packages (from nbconvert>=5->notebook>=4.4.1->widgetsnbextension~=3.6.0->ipywidgets>=7.6.5->pycaret) (4.9.4)\n",
            "Requirement already satisfied: beautifulsoup4 in /usr/local/lib/python3.10/dist-packages (from nbconvert>=5->notebook>=4.4.1->widgetsnbextension~=3.6.0->ipywidgets>=7.6.5->pycaret) (4.12.3)\n",
            "Requirement already satisfied: bleach in /usr/local/lib/python3.10/dist-packages (from nbconvert>=5->notebook>=4.4.1->widgetsnbextension~=3.6.0->ipywidgets>=7.6.5->pycaret) (6.1.0)\n",
            "Requirement already satisfied: defusedxml in /usr/local/lib/python3.10/dist-packages (from nbconvert>=5->notebook>=4.4.1->widgetsnbextension~=3.6.0->ipywidgets>=7.6.5->pycaret) (0.7.1)\n",
            "Requirement already satisfied: entrypoints>=0.2.2 in /usr/local/lib/python3.10/dist-packages (from nbconvert>=5->notebook>=4.4.1->widgetsnbextension~=3.6.0->ipywidgets>=7.6.5->pycaret) (0.4)\n",
            "Requirement already satisfied: jupyterlab-pygments in /usr/local/lib/python3.10/dist-packages (from nbconvert>=5->notebook>=4.4.1->widgetsnbextension~=3.6.0->ipywidgets>=7.6.5->pycaret) (0.3.0)\n",
            "Requirement already satisfied: mistune<2,>=0.8.1 in /usr/local/lib/python3.10/dist-packages (from nbconvert>=5->notebook>=4.4.1->widgetsnbextension~=3.6.0->ipywidgets>=7.6.5->pycaret) (0.8.4)\n",
            "Requirement already satisfied: nbclient>=0.5.0 in /usr/local/lib/python3.10/dist-packages (from nbconvert>=5->notebook>=4.4.1->widgetsnbextension~=3.6.0->ipywidgets>=7.6.5->pycaret) (0.10.0)\n",
            "Requirement already satisfied: pandocfilters>=1.4.1 in /usr/local/lib/python3.10/dist-packages (from nbconvert>=5->notebook>=4.4.1->widgetsnbextension~=3.6.0->ipywidgets>=7.6.5->pycaret) (1.5.1)\n",
            "Requirement already satisfied: tinycss2 in /usr/local/lib/python3.10/dist-packages (from nbconvert>=5->notebook>=4.4.1->widgetsnbextension~=3.6.0->ipywidgets>=7.6.5->pycaret) (1.3.0)\n",
            "Requirement already satisfied: argon2-cffi-bindings in /usr/local/lib/python3.10/dist-packages (from argon2-cffi->notebook>=4.4.1->widgetsnbextension~=3.6.0->ipywidgets>=7.6.5->pycaret) (21.2.0)\n",
            "Requirement already satisfied: jupyter-server<3,>=1.8 in /usr/local/lib/python3.10/dist-packages (from notebook-shim>=0.2.3->nbclassic>=0.4.7->notebook>=4.4.1->widgetsnbextension~=3.6.0->ipywidgets>=7.6.5->pycaret) (1.24.0)\n",
            "Requirement already satisfied: cffi>=1.0.1 in /usr/local/lib/python3.10/dist-packages (from argon2-cffi-bindings->argon2-cffi->notebook>=4.4.1->widgetsnbextension~=3.6.0->ipywidgets>=7.6.5->pycaret) (1.16.0)\n",
            "Requirement already satisfied: soupsieve>1.2 in /usr/local/lib/python3.10/dist-packages (from beautifulsoup4->nbconvert>=5->notebook>=4.4.1->widgetsnbextension~=3.6.0->ipywidgets>=7.6.5->pycaret) (2.5)\n",
            "Requirement already satisfied: webencodings in /usr/local/lib/python3.10/dist-packages (from bleach->nbconvert>=5->notebook>=4.4.1->widgetsnbextension~=3.6.0->ipywidgets>=7.6.5->pycaret) (0.5.1)\n",
            "Requirement already satisfied: pycparser in /usr/local/lib/python3.10/dist-packages (from cffi>=1.0.1->argon2-cffi-bindings->argon2-cffi->notebook>=4.4.1->widgetsnbextension~=3.6.0->ipywidgets>=7.6.5->pycaret) (2.22)\n",
            "Requirement already satisfied: anyio<4,>=3.1.0 in /usr/local/lib/python3.10/dist-packages (from jupyter-server<3,>=1.8->notebook-shim>=0.2.3->nbclassic>=0.4.7->notebook>=4.4.1->widgetsnbextension~=3.6.0->ipywidgets>=7.6.5->pycaret) (3.7.1)\n",
            "Requirement already satisfied: websocket-client in /usr/local/lib/python3.10/dist-packages (from jupyter-server<3,>=1.8->notebook-shim>=0.2.3->nbclassic>=0.4.7->notebook>=4.4.1->widgetsnbextension~=3.6.0->ipywidgets>=7.6.5->pycaret) (1.8.0)\n",
            "Requirement already satisfied: sniffio>=1.1 in /usr/local/lib/python3.10/dist-packages (from anyio<4,>=3.1.0->jupyter-server<3,>=1.8->notebook-shim>=0.2.3->nbclassic>=0.4.7->notebook>=4.4.1->widgetsnbextension~=3.6.0->ipywidgets>=7.6.5->pycaret) (1.3.1)\n",
            "Requirement already satisfied: exceptiongroup in /usr/local/lib/python3.10/dist-packages (from anyio<4,>=3.1.0->jupyter-server<3,>=1.8->notebook-shim>=0.2.3->nbclassic>=0.4.7->notebook>=4.4.1->widgetsnbextension~=3.6.0->ipywidgets>=7.6.5->pycaret) (1.2.1)\n"
          ]
        }
      ],
      "source": [
        "#εγκατάσταση πακέτου pycaret (https://pycaret.org/)\n",
        "!pip install pycaret\n",
        "#***ΠΡΟΣΟΧΗ*** μετά την εγκατάσταση χρειάζεται restart το session\n",
        "#***θα σας ζητηθεί επανεκκίνηση με σχετικό κόκκινο μήνυμα μετά την ολοκλήρωση της εγκατάστασης\n",
        "#***Πατήστε το κουμπί RESTART SESSION στο σχετικό μήνυμα"
      ]
    },
    {
      "cell_type": "code",
      "execution_count": 24,
      "metadata": {
        "id": "7LfnpwSS9nue"
      },
      "outputs": [],
      "source": [
        "#εισαγωγή βιβλιοθηκών - πακέτων\n",
        "import pycaret\n",
        "import pandas as pd\n",
        "import numpy as np\n",
        "import matplotlib.pyplot as plt\n",
        "from pycaret.classification import *"
      ]
    },
    {
      "cell_type": "code",
      "execution_count": 25,
      "metadata": {
        "colab": {
          "base_uri": "https://localhost:8080/"
        },
        "id": "ZunbzPVa9a6g",
        "outputId": "113c649c-e4be-4b9e-accd-3abe21bc0371"
      },
      "outputs": [
        {
          "output_type": "stream",
          "name": "stdout",
          "text": [
            "(117588, 6)\n"
          ]
        }
      ],
      "source": [
        "#εισαγωγή του συνόλου δεδομένων\n",
        "url = 'https://raw.githubusercontent.com/kdemertzis/EKPA/main/Data/dga_domain.csv'\n",
        "df = pd.read_csv(url)\n",
        "#έλεγχος σχήματος συνόλου δεδομένων\n",
        "print(df.shape)"
      ]
    },
    {
      "cell_type": "code",
      "execution_count": 26,
      "metadata": {
        "colab": {
          "base_uri": "https://localhost:8080/"
        },
        "id": "DCynJDtpYx8z",
        "outputId": "9774cd5b-c3dd-458c-f87d-63ff55927609"
      },
      "outputs": [
        {
          "output_type": "stream",
          "name": "stdout",
          "text": [
            "        length   entropy   alexa_grams   word_grams       diff  class\n",
            "85954        6  2.251629      8.539258    10.638713  -2.099455  legit\n",
            "49735        9  2.947703     27.203585    31.487043  -4.283459  legit\n",
            "102807      15  3.373557     50.080901    64.891186 -14.810285    dga\n",
            "12497        6  2.584963      2.507856     3.127105  -0.619249  legit\n",
            "77513       13  2.931209     53.198029    69.554672 -16.356643  legit\n"
          ]
        }
      ],
      "source": [
        "#ανακάτεμα των δεδομένων\n",
        "df = df.sample(frac = 1)\n",
        "print(df.head())"
      ]
    },
    {
      "cell_type": "code",
      "execution_count": 27,
      "metadata": {
        "id": "J6y3Zhq2-EZ8"
      },
      "outputs": [],
      "source": [
        "#εγκατάσταση του συνόλου δεδομένων\n",
        "grid = setup(data=df, target=df.columns[-1], html=False, verbose=False)"
      ]
    },
    {
      "cell_type": "code",
      "execution_count": 28,
      "metadata": {
        "colab": {
          "base_uri": "https://localhost:8080/"
        },
        "id": "ZGJ7kigzA1Rf",
        "outputId": "c0cb2880-759e-440c-ddcb-628fd191989d"
      },
      "outputs": [
        {
          "output_type": "stream",
          "name": "stderr",
          "text": [
            "                                                           "
          ]
        },
        {
          "output_type": "stream",
          "name": "stdout",
          "text": [
            "                                    Model  Accuracy     AUC  Recall   Prec.  \\\n",
            "gbc          Gradient Boosting Classifier    0.8881  0.9082  0.8881  0.8889   \n",
            "lightgbm  Light Gradient Boosting Machine    0.8880  0.9112  0.8880  0.8883   \n",
            "xgboost         Extreme Gradient Boosting    0.8875  0.9099  0.8875  0.8872   \n",
            "rf               Random Forest Classifier    0.8813  0.8952  0.8813  0.8776   \n",
            "knn                K Neighbors Classifier    0.8746  0.8666  0.8746  0.8698   \n",
            "lr                    Logistic Regression    0.8743  0.8768  0.8743  0.8724   \n",
            "et                 Extra Trees Classifier    0.8720  0.8875  0.8720  0.8666   \n",
            "svm                   SVM - Linear Kernel    0.8622  0.0000  0.8622  0.8761   \n",
            "qda       Quadratic Discriminant Analysis    0.8498  0.8781  0.8498  0.8496   \n",
            "lda          Linear Discriminant Analysis    0.8496  0.8602  0.8496  0.8541   \n",
            "ridge                    Ridge Classifier    0.8325  0.0000  0.8325  0.8533   \n",
            "dt               Decision Tree Classifier    0.8270  0.7888  0.8270  0.8290   \n",
            "ada                  Ada Boost Classifier    0.7678  0.5774  0.7678  0.6501   \n",
            "nb                            Naive Bayes    0.7655  0.7798  0.7655  0.7382   \n",
            "dummy                    Dummy Classifier    0.7342  0.0000  0.7342  0.5391   \n",
            "\n",
            "              F1   Kappa     MCC  TT (Sec)  \n",
            "gbc       0.8787  0.6955  0.7139     39.85  \n",
            "lightgbm  0.8792  0.6961  0.7132      1.87  \n",
            "xgboost   0.8791  0.6958  0.7117      1.28  \n",
            "rf        0.8742  0.6848  0.6949     13.41  \n",
            "knn       0.8676  0.6689  0.6776      0.11  \n",
            "lr        0.8653  0.6604  0.6755      3.61  \n",
            "et        0.8664  0.6663  0.6719      3.74  \n",
            "svm       0.8429  0.6014  0.6468      2.77  \n",
            "qda       0.8473  0.6292  0.6305      0.04  \n",
            "lda       0.8370  0.5770  0.6033      0.05  \n",
            "ridge     0.7992  0.4799  0.5445      0.04  \n",
            "dt        0.8279  0.5797  0.5798      0.72  \n",
            "ada       0.6743  0.2239  0.3383      3.04  \n",
            "nb        0.7429  0.3650  0.3761      0.04  \n",
            "dummy     0.6217  0.0000  0.0000      0.03  \n",
            "The tensorboard extension is already loaded. To reload it, use:\n",
            "  %reload_ext tensorboard\n"
          ]
        },
        {
          "output_type": "stream",
          "name": "stderr",
          "text": [
            "\r"
          ]
        }
      ],
      "source": [
        "#σύγκριση των διαθέσιμων μοντέλων ΜΜ\n",
        "best = compare_models(cross_validation=False, n_select = 1)\n",
        "%load_ext tensorboard"
      ]
    },
    {
      "cell_type": "code",
      "execution_count": 29,
      "metadata": {
        "colab": {
          "base_uri": "https://localhost:8080/"
        },
        "id": "TorFLtNx-kCm",
        "outputId": "c4cbe004-5100-4135-ea50-c2dbcc73dfdd"
      },
      "outputs": [
        {
          "output_type": "stream",
          "name": "stdout",
          "text": [
            "GradientBoostingClassifier(ccp_alpha=0.0, criterion='friedman_mse', init=None,\n",
            "                           learning_rate=0.1, loss='log_loss', max_depth=3,\n",
            "                           max_features=None, max_leaf_nodes=None,\n",
            "                           min_impurity_decrease=0.0, min_samples_leaf=1,\n",
            "                           min_samples_split=2, min_weight_fraction_leaf=0.0,\n",
            "                           n_estimators=100, n_iter_no_change=None,\n",
            "                           random_state=1403, subsample=1.0, tol=0.0001,\n",
            "                           validation_fraction=0.1, verbose=0,\n",
            "                           warm_start=False)\n"
          ]
        }
      ],
      "source": [
        "#αναφορά των υπερπαραμέτρων του μοντέλου με την υψηλότερη απόδοση\n",
        "print(best)"
      ]
    },
    {
      "cell_type": "code",
      "execution_count": 30,
      "metadata": {
        "colab": {
          "base_uri": "https://localhost:8080/",
          "height": 667,
          "referenced_widgets": [
            "ecea78406ac2488489725f528765f499",
            "ff9209f8e41b4cf294badbe46c5b8e5d",
            "bf60f3a9a57d484eb89b946e8bfa4c6e",
            "369d9775dadb46fcae0279d71d6bd3f5",
            "a3b4e5dab8b14cc680800bb84a13cf27",
            "992663182d79489d985aa42b4ff9e17c",
            "ceff4ca2ac794062a992db9f1974dfb5"
          ]
        },
        "id": "XJTnGY38yxrE",
        "outputId": "9902d115-8422-4d38-eb46-10c86bc73c4d"
      },
      "outputs": [
        {
          "output_type": "display_data",
          "data": {
            "text/plain": [
              "interactive(children=(ToggleButtons(description='Plot Type:', icons=('',), options=(('Pipeline Plot', 'pipelin…"
            ],
            "application/vnd.jupyter.widget-view+json": {
              "version_major": 2,
              "version_minor": 0,
              "model_id": "ecea78406ac2488489725f528765f499"
            }
          },
          "metadata": {
            "application/vnd.jupyter.widget-view+json": {
              "colab": {
                "custom_widget_manager": {
                  "url": "https://ssl.gstatic.com/colaboratory-static/widgets/colab-cdn-widget-manager/2b70e893a8ba7c0f/manager.min.js"
                }
              }
            }
          }
        }
      ],
      "source": [
        "#μέτρα αξιολόγησης του μοντέλου με την υψηλότερη απόδοση\n",
        "evaluate_model(best)"
      ]
    }
  ],
  "metadata": {
    "colab": {
      "provenance": [],
      "include_colab_link": true
    },
    "kernelspec": {
      "display_name": "Python 3",
      "name": "python3"
    },
    "widgets": {
      "application/vnd.jupyter.widget-state+json": {
        "ecea78406ac2488489725f528765f499": {
          "model_module": "@jupyter-widgets/controls",
          "model_name": "VBoxModel",
          "model_module_version": "1.5.0",
          "state": {
            "_dom_classes": [
              "widget-interact"
            ],
            "_model_module": "@jupyter-widgets/controls",
            "_model_module_version": "1.5.0",
            "_model_name": "VBoxModel",
            "_view_count": null,
            "_view_module": "@jupyter-widgets/controls",
            "_view_module_version": "1.5.0",
            "_view_name": "VBoxView",
            "box_style": "",
            "children": [
              "IPY_MODEL_ff9209f8e41b4cf294badbe46c5b8e5d",
              "IPY_MODEL_bf60f3a9a57d484eb89b946e8bfa4c6e"
            ],
            "layout": "IPY_MODEL_369d9775dadb46fcae0279d71d6bd3f5"
          }
        },
        "ff9209f8e41b4cf294badbe46c5b8e5d": {
          "model_module": "@jupyter-widgets/controls",
          "model_name": "ToggleButtonsModel",
          "model_module_version": "1.5.0",
          "state": {
            "_dom_classes": [],
            "_model_module": "@jupyter-widgets/controls",
            "_model_module_version": "1.5.0",
            "_model_name": "ToggleButtonsModel",
            "_options_labels": [
              "Pipeline Plot",
              "Hyperparameters",
              "AUC",
              "Confusion Matrix",
              "Threshold",
              "Precision Recall",
              "Prediction Error",
              "Class Report",
              "Feature Selection",
              "Learning Curve",
              "Manifold Learning",
              "Calibration Curve",
              "Validation Curve",
              "Dimensions",
              "Feature Importance",
              "Feature Importance (All)",
              "Decision Boundary",
              "Lift Chart",
              "Gain Chart",
              "Decision Tree",
              "KS Statistic Plot"
            ],
            "_view_count": null,
            "_view_module": "@jupyter-widgets/controls",
            "_view_module_version": "1.5.0",
            "_view_name": "ToggleButtonsView",
            "button_style": "",
            "description": "Plot Type:",
            "description_tooltip": null,
            "disabled": false,
            "icons": [
              ""
            ],
            "index": 7,
            "layout": "IPY_MODEL_a3b4e5dab8b14cc680800bb84a13cf27",
            "style": "IPY_MODEL_992663182d79489d985aa42b4ff9e17c",
            "tooltips": []
          }
        },
        "bf60f3a9a57d484eb89b946e8bfa4c6e": {
          "model_module": "@jupyter-widgets/output",
          "model_name": "OutputModel",
          "model_module_version": "1.0.0",
          "state": {
            "_dom_classes": [],
            "_model_module": "@jupyter-widgets/output",
            "_model_module_version": "1.0.0",
            "_model_name": "OutputModel",
            "_view_count": null,
            "_view_module": "@jupyter-widgets/output",
            "_view_module_version": "1.0.0",
            "_view_name": "OutputView",
            "layout": "IPY_MODEL_ceff4ca2ac794062a992db9f1974dfb5",
            "msg_id": "",
            "outputs": [
              {
                "output_type": "display_data",
                "data": {
                  "text/plain": "<Figure size 800x550 with 2 Axes>",
                  "image/png": "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\n"
                },
                "metadata": {}
              }
            ]
          }
        },
        "369d9775dadb46fcae0279d71d6bd3f5": {
          "model_module": "@jupyter-widgets/base",
          "model_name": "LayoutModel",
          "model_module_version": "1.2.0",
          "state": {
            "_model_module": "@jupyter-widgets/base",
            "_model_module_version": "1.2.0",
            "_model_name": "LayoutModel",
            "_view_count": null,
            "_view_module": "@jupyter-widgets/base",
            "_view_module_version": "1.2.0",
            "_view_name": "LayoutView",
            "align_content": null,
            "align_items": null,
            "align_self": null,
            "border": null,
            "bottom": null,
            "display": null,
            "flex": null,
            "flex_flow": null,
            "grid_area": null,
            "grid_auto_columns": null,
            "grid_auto_flow": null,
            "grid_auto_rows": null,
            "grid_column": null,
            "grid_gap": null,
            "grid_row": null,
            "grid_template_areas": null,
            "grid_template_columns": null,
            "grid_template_rows": null,
            "height": null,
            "justify_content": null,
            "justify_items": null,
            "left": null,
            "margin": null,
            "max_height": null,
            "max_width": null,
            "min_height": null,
            "min_width": null,
            "object_fit": null,
            "object_position": null,
            "order": null,
            "overflow": null,
            "overflow_x": null,
            "overflow_y": null,
            "padding": null,
            "right": null,
            "top": null,
            "visibility": null,
            "width": null
          }
        },
        "a3b4e5dab8b14cc680800bb84a13cf27": {
          "model_module": "@jupyter-widgets/base",
          "model_name": "LayoutModel",
          "model_module_version": "1.2.0",
          "state": {
            "_model_module": "@jupyter-widgets/base",
            "_model_module_version": "1.2.0",
            "_model_name": "LayoutModel",
            "_view_count": null,
            "_view_module": "@jupyter-widgets/base",
            "_view_module_version": "1.2.0",
            "_view_name": "LayoutView",
            "align_content": null,
            "align_items": null,
            "align_self": null,
            "border": null,
            "bottom": null,
            "display": null,
            "flex": null,
            "flex_flow": null,
            "grid_area": null,
            "grid_auto_columns": null,
            "grid_auto_flow": null,
            "grid_auto_rows": null,
            "grid_column": null,
            "grid_gap": null,
            "grid_row": null,
            "grid_template_areas": null,
            "grid_template_columns": null,
            "grid_template_rows": null,
            "height": null,
            "justify_content": null,
            "justify_items": null,
            "left": null,
            "margin": null,
            "max_height": null,
            "max_width": null,
            "min_height": null,
            "min_width": null,
            "object_fit": null,
            "object_position": null,
            "order": null,
            "overflow": null,
            "overflow_x": null,
            "overflow_y": null,
            "padding": null,
            "right": null,
            "top": null,
            "visibility": null,
            "width": null
          }
        },
        "992663182d79489d985aa42b4ff9e17c": {
          "model_module": "@jupyter-widgets/controls",
          "model_name": "ToggleButtonsStyleModel",
          "model_module_version": "1.5.0",
          "state": {
            "_model_module": "@jupyter-widgets/controls",
            "_model_module_version": "1.5.0",
            "_model_name": "ToggleButtonsStyleModel",
            "_view_count": null,
            "_view_module": "@jupyter-widgets/base",
            "_view_module_version": "1.2.0",
            "_view_name": "StyleView",
            "button_width": "",
            "description_width": "",
            "font_weight": ""
          }
        },
        "ceff4ca2ac794062a992db9f1974dfb5": {
          "model_module": "@jupyter-widgets/base",
          "model_name": "LayoutModel",
          "model_module_version": "1.2.0",
          "state": {
            "_model_module": "@jupyter-widgets/base",
            "_model_module_version": "1.2.0",
            "_model_name": "LayoutModel",
            "_view_count": null,
            "_view_module": "@jupyter-widgets/base",
            "_view_module_version": "1.2.0",
            "_view_name": "LayoutView",
            "align_content": null,
            "align_items": null,
            "align_self": null,
            "border": null,
            "bottom": null,
            "display": null,
            "flex": null,
            "flex_flow": null,
            "grid_area": null,
            "grid_auto_columns": null,
            "grid_auto_flow": null,
            "grid_auto_rows": null,
            "grid_column": null,
            "grid_gap": null,
            "grid_row": null,
            "grid_template_areas": null,
            "grid_template_columns": null,
            "grid_template_rows": null,
            "height": null,
            "justify_content": null,
            "justify_items": null,
            "left": null,
            "margin": null,
            "max_height": null,
            "max_width": null,
            "min_height": null,
            "min_width": null,
            "object_fit": null,
            "object_position": null,
            "order": null,
            "overflow": null,
            "overflow_x": null,
            "overflow_y": null,
            "padding": null,
            "right": null,
            "top": null,
            "visibility": null,
            "width": null
          }
        }
      }
    }
  },
  "nbformat": 4,
  "nbformat_minor": 0
}